{
 "cells": [
  {
   "cell_type": "markdown",
   "id": "7bff22c0",
   "metadata": {},
   "source": [
    "3.1 How many seconds are in an hour? Use the interactive interpreter as a calculator and multiply the number of seconds in a minute (60) by the number of minutes in an hour (also 60)."
   ]
  },
  {
   "cell_type": "code",
   "execution_count": 38,
   "id": "c54b9d7f",
   "metadata": {
    "scrolled": true
   },
   "outputs": [
    {
     "name": "stdout",
     "output_type": "stream",
     "text": [
      "There are 3600 seconds in an hour.\n"
     ]
    }
   ],
   "source": [
    "seconds_in_min = 60 \n",
    "mintues_in_hour = 60 \n",
    "\n",
    "#outputs the product between these two variables. \n",
    "print(\"There are\", seconds_in_min*mintues_in_hour, \"seconds in an hour.\")"
   ]
  },
  {
   "cell_type": "markdown",
   "id": "6a66d911",
   "metadata": {},
   "source": [
    "3.2 Assign the result from the previous task (seconds in an hour) to a variable called seconds_per_hour.\n",
    "\n",
    "The product between \"seconds_in_mintue\" and \"mintues_in_hour\" will be assigned to the variable \"seconds_per_hour\""
   ]
  },
  {
   "cell_type": "code",
   "execution_count": 39,
   "id": "e04ea012",
   "metadata": {},
   "outputs": [],
   "source": [
    "seconds_per_hour = 3600 "
   ]
  },
  {
   "cell_type": "markdown",
   "id": "d60ebab2",
   "metadata": {},
   "source": [
    "3.3 How many seconds are in a day? Use your seconds_per_hour variable."
   ]
  },
  {
   "cell_type": "code",
   "execution_count": 40,
   "id": "ced2e7b7",
   "metadata": {},
   "outputs": [
    {
     "name": "stdout",
     "output_type": "stream",
     "text": [
      "There are 86400 seconds in a day.\n"
     ]
    }
   ],
   "source": [
    "#outputs seconds_per_hour by 24, since there are 24 hours in a day.\n",
    "print(\"There are\", seconds_per_hour*24, \"seconds in a day.\")"
   ]
  },
  {
   "cell_type": "markdown",
   "id": "327f2dcf",
   "metadata": {},
   "source": [
    "3.4 Calculate seconds per day again, but this time save the result in a variable called seconds_per_day.\n",
    "\n",
    "Assigns the result between the variable seconds_per_hour and 24 to the new variable seconds_per_day"
   ]
  },
  {
   "cell_type": "code",
   "execution_count": 41,
   "id": "41c3e055",
   "metadata": {},
   "outputs": [],
   "source": [
    "seconds_per_day = seconds_per_hour * 24 "
   ]
  },
  {
   "cell_type": "markdown",
   "id": "7a46aec2",
   "metadata": {},
   "source": [
    "3.5 Divide seconds_per_day by seconds_per_hour. Use floating-point (/) division."
   ]
  },
  {
   "cell_type": "code",
   "execution_count": 42,
   "id": "299cba3f",
   "metadata": {},
   "outputs": [
    {
     "name": "stdout",
     "output_type": "stream",
     "text": [
      "24.0\n"
     ]
    }
   ],
   "source": [
    "#the result's data type is a float. \n",
    "total= (seconds_per_day/seconds_per_hour)\n",
    "#outputs result\n",
    "print(total)"
   ]
  },
  {
   "cell_type": "markdown",
   "id": "c63e4ba2",
   "metadata": {},
   "source": [
    "3.6 Divide seconds_per_day by seconds_per_hour, using integer (//) division. Did this number agree with the floating-point value from the previous question, aside from the final .0?"
   ]
  },
  {
   "cell_type": "code",
   "execution_count": 37,
   "id": "13a06a3d",
   "metadata": {
    "scrolled": true
   },
   "outputs": [
    {
     "name": "stdout",
     "output_type": "stream",
     "text": [
      "24\n"
     ]
    }
   ],
   "source": [
    "#the result's data type is an integer now. \n",
    "total= (seconds_per_day//seconds_per_hour)\n",
    "#outputs result\n",
    "print(total)"
   ]
  },
  {
   "cell_type": "markdown",
   "id": "9a388f84",
   "metadata": {},
   "source": [
    "The result that came from the integer divison did not change (agrees) sith the floating-point value from the previous question. "
   ]
  }
 ],
 "metadata": {
  "kernelspec": {
   "display_name": "Python 3 (ipykernel)",
   "language": "python",
   "name": "python3"
  },
  "language_info": {
   "codemirror_mode": {
    "name": "ipython",
    "version": 3
   },
   "file_extension": ".py",
   "mimetype": "text/x-python",
   "name": "python",
   "nbconvert_exporter": "python",
   "pygments_lexer": "ipython3",
   "version": "3.11.4"
  }
 },
 "nbformat": 4,
 "nbformat_minor": 5
}
